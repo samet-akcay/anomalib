version https://git-lfs.github.com/spec/v1
oid sha256:2709108a29b6a03ad1d17c2ddbe141ea81d2876ae8beb426b80aebc5d261cfb6
size 18744
