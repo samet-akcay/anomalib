version https://git-lfs.github.com/spec/v1
oid sha256:505a13c2cc8d46e1018d74b29e92160ecb8829960b0d3a178195443b0dd2e4c6
size 8255
