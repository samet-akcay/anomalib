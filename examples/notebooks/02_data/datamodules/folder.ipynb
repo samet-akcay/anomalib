version https://git-lfs.github.com/spec/v1
oid sha256:f8a5547aa048675f92a7935fc2caab3f88cd8c914d3a02947ff998fdc63aa174
size 9390
