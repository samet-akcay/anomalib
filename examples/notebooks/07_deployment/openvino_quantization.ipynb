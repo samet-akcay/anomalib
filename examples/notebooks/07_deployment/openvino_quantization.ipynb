version https://git-lfs.github.com/spec/v1
oid sha256:7deedac9cb9eddb5060e15806bd6d36587e1bd802c111e24d2f72e50e60ded02
size 12050
